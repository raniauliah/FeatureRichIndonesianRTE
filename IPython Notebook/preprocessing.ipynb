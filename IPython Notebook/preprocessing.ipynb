{
  "nbformat": 4,
  "nbformat_minor": 0,
  "metadata": {
    "colab": {
      "name": "preprocessing.ipynb",
      "provenance": [],
      "collapsed_sections": [],
      "toc_visible": true
    },
    "kernelspec": {
      "name": "python3",
      "display_name": "Python 3"
    },
    "language_info": {
      "name": "python"
    }
  },
  "cells": [
    {
      "cell_type": "markdown",
      "metadata": {
        "id": "n0CgdJ109h3J"
      },
      "source": [
        "# Load Dependencies and Data"
      ]
    },
    {
      "cell_type": "code",
      "metadata": {
        "id": "R5vzPziH9kJL"
      },
      "source": [
        "import pandas as pd\n",
        "import string\n",
        "from Sastrawi.StopWordRemover.StopWordRemoverFactory import StopWordRemoverFactory\n",
        "from Sastrawi.Stemmer.StemmerFactory import StemmerFactory"
      ],
      "execution_count": 3,
      "outputs": []
    },
    {
      "cell_type": "code",
      "metadata": {
        "id": "E3CLP8JM-S9v"
      },
      "source": [
        "data_path = \"/content/data_source/\"\n",
        "train_file = \"train_preprocess.csv\"\n",
        "test_file = \"test_preprocess.csv\"\n",
        "\n",
        "train = pd.read_csv(data_path + train_file)\n",
        "test = pd.read_csv(data_path + test_file)"
      ],
      "execution_count": 4,
      "outputs": []
    },
    {
      "cell_type": "code",
      "metadata": {
        "colab": {
          "base_uri": "https://localhost:8080/",
          "height": 195
        },
        "id": "vA6odAlSC7Hr",
        "outputId": "15826895-2a97-419c-c6e3-1c8dca827f8d"
      },
      "source": [
        "train.head()"
      ],
      "execution_count": 5,
      "outputs": [
        {
          "output_type": "execute_result",
          "data": {
            "text/html": [
              "<div>\n",
              "<style scoped>\n",
              "    .dataframe tbody tr th:only-of-type {\n",
              "        vertical-align: middle;\n",
              "    }\n",
              "\n",
              "    .dataframe tbody tr th {\n",
              "        vertical-align: top;\n",
              "    }\n",
              "\n",
              "    .dataframe thead th {\n",
              "        text-align: right;\n",
              "    }\n",
              "</style>\n",
              "<table border=\"1\" class=\"dataframe\">\n",
              "  <thead>\n",
              "    <tr style=\"text-align: right;\">\n",
              "      <th></th>\n",
              "      <th>sent_A</th>\n",
              "      <th>sent_B</th>\n",
              "      <th>category</th>\n",
              "      <th>label</th>\n",
              "    </tr>\n",
              "  </thead>\n",
              "  <tbody>\n",
              "    <tr>\n",
              "      <th>0</th>\n",
              "      <td>Pada awalnya bangsa Israel hanya terdiri dari ...</td>\n",
              "      <td>Pada awalnya bangsa Yahudi hanya terdiri dari ...</td>\n",
              "      <td>menolak perubahan teks terakhir oleh istimewa ...</td>\n",
              "      <td>NotEntail</td>\n",
              "    </tr>\n",
              "    <tr>\n",
              "      <th>1</th>\n",
              "      <td>Salah satu tekniknya adalah periplus , deskrip...</td>\n",
              "      <td>Bangsa Romawi memberi sumbangan pada pemetaan ...</td>\n",
              "      <td>sejarah geografi</td>\n",
              "      <td>NotEntail</td>\n",
              "    </tr>\n",
              "    <tr>\n",
              "      <th>2</th>\n",
              "      <td>Etnolinguistik antropologi adalah ilmu yang me...</td>\n",
              "      <td>Etnolinguistik antropologi adalah ilmu yang me...</td>\n",
              "      <td>definisi anthropologi menurut para ahli</td>\n",
              "      <td>NotEntail</td>\n",
              "    </tr>\n",
              "    <tr>\n",
              "      <th>3</th>\n",
              "      <td>Sekarang , tidak ada yang tahu pasti kapan sej...</td>\n",
              "      <td>Sejarah dimulai pada awal penciptaan manusia .</td>\n",
              "      <td>1 penggantian istilah quot prasejarah quot den...</td>\n",
              "      <td>NotEntail</td>\n",
              "    </tr>\n",
              "    <tr>\n",
              "      <th>4</th>\n",
              "      <td>Soekarno tidak memilih bahasanya sendiri , Jaw...</td>\n",
              "      <td>Dengan memilih Bahasa Melayu , para pejuang ke...</td>\n",
              "      <td>bahasa indonesia</td>\n",
              "      <td>NotEntail</td>\n",
              "    </tr>\n",
              "  </tbody>\n",
              "</table>\n",
              "</div>"
            ],
            "text/plain": [
              "                                              sent_A  ...      label\n",
              "0  Pada awalnya bangsa Israel hanya terdiri dari ...  ...  NotEntail\n",
              "1  Salah satu tekniknya adalah periplus , deskrip...  ...  NotEntail\n",
              "2  Etnolinguistik antropologi adalah ilmu yang me...  ...  NotEntail\n",
              "3  Sekarang , tidak ada yang tahu pasti kapan sej...  ...  NotEntail\n",
              "4  Soekarno tidak memilih bahasanya sendiri , Jaw...  ...  NotEntail\n",
              "\n",
              "[5 rows x 4 columns]"
            ]
          },
          "metadata": {
            "tags": []
          },
          "execution_count": 5
        }
      ]
    },
    {
      "cell_type": "code",
      "metadata": {
        "colab": {
          "base_uri": "https://localhost:8080/",
          "height": 279
        },
        "id": "rhjIHKg9DAhk",
        "outputId": "dd0f8f54-1bed-4fed-fbed-a93408e8f49e"
      },
      "source": [
        "test = test.drop(['Unnamed: 0'], axis=1)\n",
        "test.head()"
      ],
      "execution_count": 8,
      "outputs": [
        {
          "output_type": "execute_result",
          "data": {
            "text/html": [
              "<div>\n",
              "<style scoped>\n",
              "    .dataframe tbody tr th:only-of-type {\n",
              "        vertical-align: middle;\n",
              "    }\n",
              "\n",
              "    .dataframe tbody tr th {\n",
              "        vertical-align: top;\n",
              "    }\n",
              "\n",
              "    .dataframe thead th {\n",
              "        text-align: right;\n",
              "    }\n",
              "</style>\n",
              "<table border=\"1\" class=\"dataframe\">\n",
              "  <thead>\n",
              "    <tr style=\"text-align: right;\">\n",
              "      <th></th>\n",
              "      <th>sent_A</th>\n",
              "      <th>sent_B</th>\n",
              "      <th>category</th>\n",
              "      <th>label</th>\n",
              "    </tr>\n",
              "  </thead>\n",
              "  <tbody>\n",
              "    <tr>\n",
              "      <th>0</th>\n",
              "      <td>Asam deoksiribonukleat atau lebih dikenal deng...</td>\n",
              "      <td>Asam deoksiribonukleat , lebih dikenal dengan ...</td>\n",
              "      <td>kategori</td>\n",
              "      <td>Entail_or_Paraphrase</td>\n",
              "    </tr>\n",
              "    <tr>\n",
              "      <th>1</th>\n",
              "      <td>DNA pertama kali berhasil dimurnikan pada tahu...</td>\n",
              "      <td>DNA pertama kali berhasil dimurnikan pada tahu...</td>\n",
              "      <td>sejarah</td>\n",
              "      <td>Entail_or_Paraphrase</td>\n",
              "    </tr>\n",
              "    <tr>\n",
              "      <th>2</th>\n",
              "      <td>Rantai tunggal yang diperoleh dari DNA sebelum...</td>\n",
              "      <td>Rantai tunggal yang diperoleh dari DNA sebelum...</td>\n",
              "      <td>replikasi copyedit sembunyikan yang belum jelas</td>\n",
              "      <td>Entail_or_Paraphrase</td>\n",
              "    </tr>\n",
              "    <tr>\n",
              "      <th>3</th>\n",
              "      <td>Proses replikasi memerlukan keberadaan protein...</td>\n",
              "      <td>Proses replikasi memerlukan protein atau enzim...</td>\n",
              "      <td>replikasi copyedit sembunyikan yang belum jelas</td>\n",
              "      <td>Entail_or_Paraphrase</td>\n",
              "    </tr>\n",
              "    <tr>\n",
              "      <th>4</th>\n",
              "      <td>Proses replikasi diawali dengan pembukaan doub...</td>\n",
              "      <td>Proses replikasi diawali dengan pembukaan unta...</td>\n",
              "      <td>replikasi copyedit sembunyikan yang belum jelas</td>\n",
              "      <td>Entail_or_Paraphrase</td>\n",
              "    </tr>\n",
              "  </tbody>\n",
              "</table>\n",
              "</div>"
            ],
            "text/plain": [
              "                                              sent_A  ...                 label\n",
              "0  Asam deoksiribonukleat atau lebih dikenal deng...  ...  Entail_or_Paraphrase\n",
              "1  DNA pertama kali berhasil dimurnikan pada tahu...  ...  Entail_or_Paraphrase\n",
              "2  Rantai tunggal yang diperoleh dari DNA sebelum...  ...  Entail_or_Paraphrase\n",
              "3  Proses replikasi memerlukan keberadaan protein...  ...  Entail_or_Paraphrase\n",
              "4  Proses replikasi diawali dengan pembukaan doub...  ...  Entail_or_Paraphrase\n",
              "\n",
              "[5 rows x 4 columns]"
            ]
          },
          "metadata": {
            "tags": []
          },
          "execution_count": 8
        }
      ]
    },
    {
      "cell_type": "markdown",
      "metadata": {
        "id": "sjX0itzeDNf0"
      },
      "source": [
        "## Encode Label\n",
        "Encode the label for both train and test data\n",
        "\n",
        "\n",
        "*   Entail_or_Paraphrase as 1\n",
        "*   NotEntail as 0\n",
        "\n"
      ]
    },
    {
      "cell_type": "code",
      "metadata": {
        "id": "O0MIH7ICDRV8"
      },
      "source": [
        "train['label'].replace({\"Entail_or_Paraphrase\": 1, \"NotEntail\": 0}, inplace=True)\n",
        "test['label'].replace({\"Entail_or_Paraphrase\": 1, \"NotEntail\": 0}, inplace=True)"
      ],
      "execution_count": 9,
      "outputs": []
    },
    {
      "cell_type": "code",
      "metadata": {
        "colab": {
          "base_uri": "https://localhost:8080/",
          "height": 195
        },
        "id": "bcA_qLVLDjK_",
        "outputId": "ada809ab-b0a4-4349-a4a6-ee838efc9389"
      },
      "source": [
        "train.head()"
      ],
      "execution_count": 10,
      "outputs": [
        {
          "output_type": "execute_result",
          "data": {
            "text/html": [
              "<div>\n",
              "<style scoped>\n",
              "    .dataframe tbody tr th:only-of-type {\n",
              "        vertical-align: middle;\n",
              "    }\n",
              "\n",
              "    .dataframe tbody tr th {\n",
              "        vertical-align: top;\n",
              "    }\n",
              "\n",
              "    .dataframe thead th {\n",
              "        text-align: right;\n",
              "    }\n",
              "</style>\n",
              "<table border=\"1\" class=\"dataframe\">\n",
              "  <thead>\n",
              "    <tr style=\"text-align: right;\">\n",
              "      <th></th>\n",
              "      <th>sent_A</th>\n",
              "      <th>sent_B</th>\n",
              "      <th>category</th>\n",
              "      <th>label</th>\n",
              "    </tr>\n",
              "  </thead>\n",
              "  <tbody>\n",
              "    <tr>\n",
              "      <th>0</th>\n",
              "      <td>Pada awalnya bangsa Israel hanya terdiri dari ...</td>\n",
              "      <td>Pada awalnya bangsa Yahudi hanya terdiri dari ...</td>\n",
              "      <td>menolak perubahan teks terakhir oleh istimewa ...</td>\n",
              "      <td>0</td>\n",
              "    </tr>\n",
              "    <tr>\n",
              "      <th>1</th>\n",
              "      <td>Salah satu tekniknya adalah periplus , deskrip...</td>\n",
              "      <td>Bangsa Romawi memberi sumbangan pada pemetaan ...</td>\n",
              "      <td>sejarah geografi</td>\n",
              "      <td>0</td>\n",
              "    </tr>\n",
              "    <tr>\n",
              "      <th>2</th>\n",
              "      <td>Etnolinguistik antropologi adalah ilmu yang me...</td>\n",
              "      <td>Etnolinguistik antropologi adalah ilmu yang me...</td>\n",
              "      <td>definisi anthropologi menurut para ahli</td>\n",
              "      <td>0</td>\n",
              "    </tr>\n",
              "    <tr>\n",
              "      <th>3</th>\n",
              "      <td>Sekarang , tidak ada yang tahu pasti kapan sej...</td>\n",
              "      <td>Sejarah dimulai pada awal penciptaan manusia .</td>\n",
              "      <td>1 penggantian istilah quot prasejarah quot den...</td>\n",
              "      <td>0</td>\n",
              "    </tr>\n",
              "    <tr>\n",
              "      <th>4</th>\n",
              "      <td>Soekarno tidak memilih bahasanya sendiri , Jaw...</td>\n",
              "      <td>Dengan memilih Bahasa Melayu , para pejuang ke...</td>\n",
              "      <td>bahasa indonesia</td>\n",
              "      <td>0</td>\n",
              "    </tr>\n",
              "  </tbody>\n",
              "</table>\n",
              "</div>"
            ],
            "text/plain": [
              "                                              sent_A  ... label\n",
              "0  Pada awalnya bangsa Israel hanya terdiri dari ...  ...     0\n",
              "1  Salah satu tekniknya adalah periplus , deskrip...  ...     0\n",
              "2  Etnolinguistik antropologi adalah ilmu yang me...  ...     0\n",
              "3  Sekarang , tidak ada yang tahu pasti kapan sej...  ...     0\n",
              "4  Soekarno tidak memilih bahasanya sendiri , Jaw...  ...     0\n",
              "\n",
              "[5 rows x 4 columns]"
            ]
          },
          "metadata": {
            "tags": []
          },
          "execution_count": 10
        }
      ]
    },
    {
      "cell_type": "code",
      "metadata": {
        "colab": {
          "base_uri": "https://localhost:8080/",
          "height": 195
        },
        "id": "sGZI5FU4DkSp",
        "outputId": "6070d155-d9bb-4a49-8668-62daa6dc0982"
      },
      "source": [
        "test.head(5)"
      ],
      "execution_count": 11,
      "outputs": [
        {
          "output_type": "execute_result",
          "data": {
            "text/html": [
              "<div>\n",
              "<style scoped>\n",
              "    .dataframe tbody tr th:only-of-type {\n",
              "        vertical-align: middle;\n",
              "    }\n",
              "\n",
              "    .dataframe tbody tr th {\n",
              "        vertical-align: top;\n",
              "    }\n",
              "\n",
              "    .dataframe thead th {\n",
              "        text-align: right;\n",
              "    }\n",
              "</style>\n",
              "<table border=\"1\" class=\"dataframe\">\n",
              "  <thead>\n",
              "    <tr style=\"text-align: right;\">\n",
              "      <th></th>\n",
              "      <th>sent_A</th>\n",
              "      <th>sent_B</th>\n",
              "      <th>category</th>\n",
              "      <th>label</th>\n",
              "    </tr>\n",
              "  </thead>\n",
              "  <tbody>\n",
              "    <tr>\n",
              "      <th>0</th>\n",
              "      <td>Asam deoksiribonukleat atau lebih dikenal deng...</td>\n",
              "      <td>Asam deoksiribonukleat , lebih dikenal dengan ...</td>\n",
              "      <td>kategori</td>\n",
              "      <td>1</td>\n",
              "    </tr>\n",
              "    <tr>\n",
              "      <th>1</th>\n",
              "      <td>DNA pertama kali berhasil dimurnikan pada tahu...</td>\n",
              "      <td>DNA pertama kali berhasil dimurnikan pada tahu...</td>\n",
              "      <td>sejarah</td>\n",
              "      <td>1</td>\n",
              "    </tr>\n",
              "    <tr>\n",
              "      <th>2</th>\n",
              "      <td>Rantai tunggal yang diperoleh dari DNA sebelum...</td>\n",
              "      <td>Rantai tunggal yang diperoleh dari DNA sebelum...</td>\n",
              "      <td>replikasi copyedit sembunyikan yang belum jelas</td>\n",
              "      <td>1</td>\n",
              "    </tr>\n",
              "    <tr>\n",
              "      <th>3</th>\n",
              "      <td>Proses replikasi memerlukan keberadaan protein...</td>\n",
              "      <td>Proses replikasi memerlukan protein atau enzim...</td>\n",
              "      <td>replikasi copyedit sembunyikan yang belum jelas</td>\n",
              "      <td>1</td>\n",
              "    </tr>\n",
              "    <tr>\n",
              "      <th>4</th>\n",
              "      <td>Proses replikasi diawali dengan pembukaan doub...</td>\n",
              "      <td>Proses replikasi diawali dengan pembukaan unta...</td>\n",
              "      <td>replikasi copyedit sembunyikan yang belum jelas</td>\n",
              "      <td>1</td>\n",
              "    </tr>\n",
              "  </tbody>\n",
              "</table>\n",
              "</div>"
            ],
            "text/plain": [
              "                                              sent_A  ... label\n",
              "0  Asam deoksiribonukleat atau lebih dikenal deng...  ...     1\n",
              "1  DNA pertama kali berhasil dimurnikan pada tahu...  ...     1\n",
              "2  Rantai tunggal yang diperoleh dari DNA sebelum...  ...     1\n",
              "3  Proses replikasi memerlukan keberadaan protein...  ...     1\n",
              "4  Proses replikasi diawali dengan pembukaan doub...  ...     1\n",
              "\n",
              "[5 rows x 4 columns]"
            ]
          },
          "metadata": {
            "tags": []
          },
          "execution_count": 11
        }
      ]
    },
    {
      "cell_type": "markdown",
      "metadata": {
        "id": "jsjDbhZzDoxO"
      },
      "source": [
        "# Preprocessing"
      ]
    },
    {
      "cell_type": "markdown",
      "metadata": {
        "id": "-PrH1gnrDqbI"
      },
      "source": [
        "The function below shows the step by step of whitespace removal, case folding, punctuation removal, stemming, and stopwords removal for a sentence"
      ]
    },
    {
      "cell_type": "code",
      "metadata": {
        "id": "rYYDKckTEAy3"
      },
      "source": [
        "def preprocess_sentence_func(sentence, stemmer, stopword):\n",
        "  # WHITESPACE REMOVAL\n",
        "  new_sentence = sentence.strip()\n",
        "\n",
        "  # CASE FOLDING\n",
        "  new_sentence = new_sentence.lower()\n",
        "\n",
        "  # PUNCTUATION REMOVAL\n",
        "  new_sentence = new_sentence.translate(str.maketrans(\"\",\"\", string.punctuation))\n",
        "\n",
        "  # STEMMING\n",
        "  new_sentence = stemmer.stem(new_sentence)\n",
        "\n",
        "  # STOPWORDS REMOVAL\n",
        "  new_sentence = stopword.remove(new_sentence)\n",
        "\n",
        "  return new_sentence"
      ],
      "execution_count": 12,
      "outputs": []
    },
    {
      "cell_type": "markdown",
      "metadata": {
        "id": "L13W6plKEDbf"
      },
      "source": [
        "The function below run the preprocessing step for a dataframe"
      ]
    },
    {
      "cell_type": "code",
      "metadata": {
        "id": "Qr_3JQAFDrUM"
      },
      "source": [
        "def preprocess_func(df):\n",
        "  n = df.shape[0]\n",
        "  value_arr = []\n",
        "\n",
        "  # preparation for stemming\n",
        "  factory = StemmerFactory()\n",
        "  stemmer = factory.create_stemmer()\n",
        "\n",
        "  # preparation for stopwords removal\n",
        "  stop_factory = StopWordRemoverFactory()\n",
        "  stopword = stop_factory.create_stop_word_remover()\n",
        "  \n",
        "  for row in range(n):\n",
        "    new_row = []\n",
        "    premis = df['sent_A'][row]\n",
        "    hipotesis = df['sent_B'][row]\n",
        "\n",
        "    new_premis = preprocess_sentence_func(premis, stemmer, stopword)\n",
        "    new_hipotesis = preprocess_sentence_func(hipotesis, stemmer, stopword)\n",
        "\n",
        "    new_row.append(new_premis)\n",
        "    new_row.append(new_hipotesis)\n",
        "\n",
        "    value_arr.append(new_row)\n",
        "    if row == 0:\n",
        "      print(\"running...\")\n",
        "    if row == n-1:\n",
        "      print(\"finish\")\n",
        "  \n",
        "  new_df = pd.DataFrame(data=value_arr, columns=['sent_A', 'sent_B'])\n",
        "  return new_df"
      ],
      "execution_count": 13,
      "outputs": []
    },
    {
      "cell_type": "code",
      "metadata": {
        "colab": {
          "base_uri": "https://localhost:8080/"
        },
        "id": "faaywWQ-EbQg",
        "outputId": "7d5f44b3-0093-4ad8-e5c4-6c6f5e78b72e"
      },
      "source": [
        "# call function for each dataframe (train and test)\n",
        "preprocessed_train = preprocess_func(train)\n",
        "preprocessed_test = preprocess_func(test)"
      ],
      "execution_count": 14,
      "outputs": [
        {
          "output_type": "stream",
          "text": [
            "running...\n",
            "finish\n",
            "running...\n",
            "finish\n"
          ],
          "name": "stdout"
        }
      ]
    },
    {
      "cell_type": "markdown",
      "metadata": {
        "id": "bM8jiteVGeAU"
      },
      "source": [
        "## Preprocessed Data Preparation"
      ]
    },
    {
      "cell_type": "code",
      "metadata": {
        "id": "1dGAukhHGj64"
      },
      "source": [
        "train['preprocessed_A'] = preprocessed_train['sent_A']\n",
        "train['preprocessed_B'] = preprocessed_train['sent_B']\n",
        "\n",
        "test['preprocessed_A'] = preprocessed_test['sent_A']\n",
        "test['preprocessed_B'] = preprocessed_test['sent_B']"
      ],
      "execution_count": 15,
      "outputs": []
    },
    {
      "cell_type": "code",
      "metadata": {
        "colab": {
          "base_uri": "https://localhost:8080/",
          "height": 279
        },
        "id": "wyFbJOJrG3E_",
        "outputId": "cfeeca1e-07dc-4602-d088-f583d1d77be9"
      },
      "source": [
        "train.head()"
      ],
      "execution_count": 16,
      "outputs": [
        {
          "output_type": "execute_result",
          "data": {
            "text/html": [
              "<div>\n",
              "<style scoped>\n",
              "    .dataframe tbody tr th:only-of-type {\n",
              "        vertical-align: middle;\n",
              "    }\n",
              "\n",
              "    .dataframe tbody tr th {\n",
              "        vertical-align: top;\n",
              "    }\n",
              "\n",
              "    .dataframe thead th {\n",
              "        text-align: right;\n",
              "    }\n",
              "</style>\n",
              "<table border=\"1\" class=\"dataframe\">\n",
              "  <thead>\n",
              "    <tr style=\"text-align: right;\">\n",
              "      <th></th>\n",
              "      <th>sent_A</th>\n",
              "      <th>sent_B</th>\n",
              "      <th>category</th>\n",
              "      <th>label</th>\n",
              "      <th>preprocessed_A</th>\n",
              "      <th>preprocessed_B</th>\n",
              "    </tr>\n",
              "  </thead>\n",
              "  <tbody>\n",
              "    <tr>\n",
              "      <th>0</th>\n",
              "      <td>Pada awalnya bangsa Israel hanya terdiri dari ...</td>\n",
              "      <td>Pada awalnya bangsa Yahudi hanya terdiri dari ...</td>\n",
              "      <td>menolak perubahan teks terakhir oleh istimewa ...</td>\n",
              "      <td>0</td>\n",
              "      <td>awal bangsa israel diri satu kelompok keluarga...</td>\n",
              "      <td>awal bangsa yahudi diri satu kelompok keluarga...</td>\n",
              "    </tr>\n",
              "    <tr>\n",
              "      <th>1</th>\n",
              "      <td>Salah satu tekniknya adalah periplus , deskrip...</td>\n",
              "      <td>Bangsa Romawi memberi sumbangan pada pemetaan ...</td>\n",
              "      <td>sejarah geografi</td>\n",
              "      <td>0</td>\n",
              "      <td>salah satu teknik periplus deskripsi labuh dar...</td>\n",
              "      <td>bangsa romawi beri sumbang meta mereka banyak ...</td>\n",
              "    </tr>\n",
              "    <tr>\n",
              "      <th>2</th>\n",
              "      <td>Etnolinguistik antropologi adalah ilmu yang me...</td>\n",
              "      <td>Etnolinguistik antropologi adalah ilmu yang me...</td>\n",
              "      <td>definisi anthropologi menurut para ahli</td>\n",
              "      <td>0</td>\n",
              "      <td>etnolinguistik antropologi ilmu ajar lukis cir...</td>\n",
              "      <td>etnolinguistik antropologi ilmu ajar sukusuku ...</td>\n",
              "    </tr>\n",
              "    <tr>\n",
              "      <th>3</th>\n",
              "      <td>Sekarang , tidak ada yang tahu pasti kapan sej...</td>\n",
              "      <td>Sejarah dimulai pada awal penciptaan manusia .</td>\n",
              "      <td>1 penggantian istilah quot prasejarah quot den...</td>\n",
              "      <td>0</td>\n",
              "      <td>sekarang ada tahu kapan sejarah mulai</td>\n",
              "      <td>sejarah mulai awal cipta manusia</td>\n",
              "    </tr>\n",
              "    <tr>\n",
              "      <th>4</th>\n",
              "      <td>Soekarno tidak memilih bahasanya sendiri , Jaw...</td>\n",
              "      <td>Dengan memilih Bahasa Melayu , para pejuang ke...</td>\n",
              "      <td>bahasa indonesia</td>\n",
              "      <td>0</td>\n",
              "      <td>soekarno pilih bahasa sendiri jawa benar bahas...</td>\n",
              "      <td>pilih bahasa melayu juang merdeka satu seperti...</td>\n",
              "    </tr>\n",
              "  </tbody>\n",
              "</table>\n",
              "</div>"
            ],
            "text/plain": [
              "                                              sent_A  ...                                     preprocessed_B\n",
              "0  Pada awalnya bangsa Israel hanya terdiri dari ...  ...  awal bangsa yahudi diri satu kelompok keluarga...\n",
              "1  Salah satu tekniknya adalah periplus , deskrip...  ...  bangsa romawi beri sumbang meta mereka banyak ...\n",
              "2  Etnolinguistik antropologi adalah ilmu yang me...  ...  etnolinguistik antropologi ilmu ajar sukusuku ...\n",
              "3  Sekarang , tidak ada yang tahu pasti kapan sej...  ...                   sejarah mulai awal cipta manusia\n",
              "4  Soekarno tidak memilih bahasanya sendiri , Jaw...  ...  pilih bahasa melayu juang merdeka satu seperti...\n",
              "\n",
              "[5 rows x 6 columns]"
            ]
          },
          "metadata": {
            "tags": []
          },
          "execution_count": 16
        }
      ]
    },
    {
      "cell_type": "code",
      "metadata": {
        "colab": {
          "base_uri": "https://localhost:8080/",
          "height": 279
        },
        "id": "wEFggXijG4s6",
        "outputId": "6cac2c82-2509-4e22-dd0e-fa1fff2b01e5"
      },
      "source": [
        "test.head()"
      ],
      "execution_count": 17,
      "outputs": [
        {
          "output_type": "execute_result",
          "data": {
            "text/html": [
              "<div>\n",
              "<style scoped>\n",
              "    .dataframe tbody tr th:only-of-type {\n",
              "        vertical-align: middle;\n",
              "    }\n",
              "\n",
              "    .dataframe tbody tr th {\n",
              "        vertical-align: top;\n",
              "    }\n",
              "\n",
              "    .dataframe thead th {\n",
              "        text-align: right;\n",
              "    }\n",
              "</style>\n",
              "<table border=\"1\" class=\"dataframe\">\n",
              "  <thead>\n",
              "    <tr style=\"text-align: right;\">\n",
              "      <th></th>\n",
              "      <th>sent_A</th>\n",
              "      <th>sent_B</th>\n",
              "      <th>category</th>\n",
              "      <th>label</th>\n",
              "      <th>preprocessed_A</th>\n",
              "      <th>preprocessed_B</th>\n",
              "    </tr>\n",
              "  </thead>\n",
              "  <tbody>\n",
              "    <tr>\n",
              "      <th>0</th>\n",
              "      <td>Asam deoksiribonukleat atau lebih dikenal deng...</td>\n",
              "      <td>Asam deoksiribonukleat , lebih dikenal dengan ...</td>\n",
              "      <td>kategori</td>\n",
              "      <td>1</td>\n",
              "      <td>asam deoksiribonukleat lebih kenal singkat dna...</td>\n",
              "      <td>asam deoksiribonukleat lebih kenal dna bahasa ...</td>\n",
              "    </tr>\n",
              "    <tr>\n",
              "      <th>1</th>\n",
              "      <td>DNA pertama kali berhasil dimurnikan pada tahu...</td>\n",
              "      <td>DNA pertama kali berhasil dimurnikan pada tahu...</td>\n",
              "      <td>sejarah</td>\n",
              "      <td>1</td>\n",
              "      <td>dna pertama kali hasil murni tahun 1868 ilmuwa...</td>\n",
              "      <td>dna pertama kali hasil murni tahun 1868 ilmuwa...</td>\n",
              "    </tr>\n",
              "    <tr>\n",
              "      <th>2</th>\n",
              "      <td>Rantai tunggal yang diperoleh dari DNA sebelum...</td>\n",
              "      <td>Rantai tunggal yang diperoleh dari DNA sebelum...</td>\n",
              "      <td>replikasi copyedit sembunyikan yang belum jelas</td>\n",
              "      <td>1</td>\n",
              "      <td>rantai tunggal oleh dna sebut tindak bagai cet...</td>\n",
              "      <td>rantai tunggal oleh dna sebut tindak bagai cet...</td>\n",
              "    </tr>\n",
              "    <tr>\n",
              "      <th>3</th>\n",
              "      <td>Proses replikasi memerlukan keberadaan protein...</td>\n",
              "      <td>Proses replikasi memerlukan protein atau enzim...</td>\n",
              "      <td>replikasi copyedit sembunyikan yang belum jelas</td>\n",
              "      <td>1</td>\n",
              "      <td>proses replikasi perlu protein enzim bantu sal...</td>\n",
              "      <td>proses replikasi perlu protein enzim bantu sal...</td>\n",
              "    </tr>\n",
              "    <tr>\n",
              "      <th>4</th>\n",
              "      <td>Proses replikasi diawali dengan pembukaan doub...</td>\n",
              "      <td>Proses replikasi diawali dengan pembukaan unta...</td>\n",
              "      <td>replikasi copyedit sembunyikan yang belum jelas</td>\n",
              "      <td>1</td>\n",
              "      <td>proses replikasi awal buka double helix point ...</td>\n",
              "      <td>proses replikasi awal buka untai ganda dna tit...</td>\n",
              "    </tr>\n",
              "  </tbody>\n",
              "</table>\n",
              "</div>"
            ],
            "text/plain": [
              "                                              sent_A  ...                                     preprocessed_B\n",
              "0  Asam deoksiribonukleat atau lebih dikenal deng...  ...  asam deoksiribonukleat lebih kenal dna bahasa ...\n",
              "1  DNA pertama kali berhasil dimurnikan pada tahu...  ...  dna pertama kali hasil murni tahun 1868 ilmuwa...\n",
              "2  Rantai tunggal yang diperoleh dari DNA sebelum...  ...  rantai tunggal oleh dna sebut tindak bagai cet...\n",
              "3  Proses replikasi memerlukan keberadaan protein...  ...  proses replikasi perlu protein enzim bantu sal...\n",
              "4  Proses replikasi diawali dengan pembukaan doub...  ...  proses replikasi awal buka untai ganda dna tit...\n",
              "\n",
              "[5 rows x 6 columns]"
            ]
          },
          "metadata": {
            "tags": []
          },
          "execution_count": 17
        }
      ]
    },
    {
      "cell_type": "markdown",
      "metadata": {
        "id": "h9_Xt6i8G65g"
      },
      "source": [
        "## Export Data"
      ]
    },
    {
      "cell_type": "code",
      "metadata": {
        "id": "mSYT64PEG79P"
      },
      "source": [
        "result_path = \"/content/data_source/preprocessed_result/\"\n",
        "train_result = \"preprocessed_train.csv\"\n",
        "test_result = \"preprocessed_test.csv\"\n",
        "\n",
        "train.to_csv(result_path + train_result)\n",
        "test.to_csv(result_path + test_result)"
      ],
      "execution_count": 18,
      "outputs": []
    }
  ]
}